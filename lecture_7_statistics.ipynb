{
 "cells": [
  {
   "cell_type": "code",
   "execution_count": 1,
   "id": "f6e78310",
   "metadata": {
    "ExecuteTime": {
     "end_time": "2022-12-06T18:26:16.073936Z",
     "start_time": "2022-12-06T18:26:07.709212Z"
    }
   },
   "outputs": [
    {
     "name": "stdout",
     "output_type": "stream",
     "text": [
      "Requirement already satisfied: statsmodels in /Users/marianashchehelska/anaconda3/lib/python3.11/site-packages (0.14.0)\n",
      "Requirement already satisfied: numpy>=1.18 in /Users/marianashchehelska/anaconda3/lib/python3.11/site-packages (from statsmodels) (1.24.3)\n",
      "Requirement already satisfied: scipy!=1.9.2,>=1.4 in /Users/marianashchehelska/anaconda3/lib/python3.11/site-packages (from statsmodels) (1.11.1)\n",
      "Requirement already satisfied: pandas>=1.0 in /Users/marianashchehelska/anaconda3/lib/python3.11/site-packages (from statsmodels) (2.0.3)\n",
      "Requirement already satisfied: patsy>=0.5.2 in /Users/marianashchehelska/anaconda3/lib/python3.11/site-packages (from statsmodels) (0.5.3)\n",
      "Requirement already satisfied: packaging>=21.3 in /Users/marianashchehelska/anaconda3/lib/python3.11/site-packages (from statsmodels) (23.1)\n",
      "Requirement already satisfied: python-dateutil>=2.8.2 in /Users/marianashchehelska/anaconda3/lib/python3.11/site-packages (from pandas>=1.0->statsmodels) (2.8.2)\n",
      "Requirement already satisfied: pytz>=2020.1 in /Users/marianashchehelska/anaconda3/lib/python3.11/site-packages (from pandas>=1.0->statsmodels) (2023.3.post1)\n",
      "Requirement already satisfied: tzdata>=2022.1 in /Users/marianashchehelska/anaconda3/lib/python3.11/site-packages (from pandas>=1.0->statsmodels) (2023.3)\n",
      "Requirement already satisfied: six in /Users/marianashchehelska/anaconda3/lib/python3.11/site-packages (from patsy>=0.5.2->statsmodels) (1.16.0)\n"
     ]
    }
   ],
   "source": [
    "!pip install statsmodels"
   ]
  },
  {
   "cell_type": "code",
   "execution_count": 2,
   "id": "f07f93e5",
   "metadata": {
    "ExecuteTime": {
     "end_time": "2022-12-07T21:47:07.760223Z",
     "start_time": "2022-12-07T21:47:07.681208Z"
    }
   },
   "outputs": [],
   "source": [
    "import math\n",
    "import random\n",
    "import re\n",
    "\n",
    "import scipy\n",
    "import matplotlib.pyplot as plt\n",
    "import numpy as np\n",
    "import pandas as pd\n",
    "import statsmodels.api as sm\n",
    "from scipy import stats as st\n",
    "from scipy.stats import norm"
   ]
  },
  {
   "cell_type": "markdown",
   "id": "ef240a28",
   "metadata": {},
   "source": [
    "# Огляд scipy.stats"
   ]
  },
  {
   "cell_type": "code",
   "execution_count": 3,
   "id": "a48ed67d",
   "metadata": {
    "ExecuteTime": {
     "end_time": "2022-12-06T19:37:32.051853Z",
     "start_time": "2022-12-06T19:37:32.047531Z"
    }
   },
   "outputs": [],
   "source": [
    "rv = norm()"
   ]
  },
  {
   "cell_type": "code",
   "execution_count": 4,
   "id": "ff110a0d",
   "metadata": {
    "ExecuteTime": {
     "end_time": "2022-12-06T19:38:32.679496Z",
     "start_time": "2022-12-06T19:38:32.674829Z"
    }
   },
   "outputs": [
    {
     "data": {
      "text/plain": [
       "<scipy.stats._distn_infrastructure.rv_continuous_frozen at 0x1241c6510>"
      ]
     },
     "execution_count": 4,
     "metadata": {},
     "output_type": "execute_result"
    }
   ],
   "source": [
    "rv"
   ]
  },
  {
   "cell_type": "code",
   "execution_count": null,
   "id": "a76fd216",
   "metadata": {
    "ExecuteTime": {
     "end_time": "2022-12-06T19:38:43.506431Z",
     "start_time": "2022-12-06T19:38:43.503894Z"
    }
   },
   "outputs": [],
   "source": [
    "# dir(rv)"
   ]
  },
  {
   "cell_type": "code",
   "execution_count": 5,
   "id": "e401f088",
   "metadata": {
    "ExecuteTime": {
     "end_time": "2022-12-06T19:39:14.123464Z",
     "start_time": "2022-12-06T19:39:14.119713Z"
    }
   },
   "outputs": [
    {
     "data": {
      "text/plain": [
       "scipy.stats._distn_infrastructure.rv_continuous"
      ]
     },
     "execution_count": 5,
     "metadata": {},
     "output_type": "execute_result"
    }
   ],
   "source": [
    "st.rv_continuous"
   ]
  },
  {
   "cell_type": "code",
   "execution_count": 6,
   "id": "32ed40b1",
   "metadata": {
    "ExecuteTime": {
     "end_time": "2022-12-06T19:39:48.461637Z",
     "start_time": "2022-12-06T19:39:48.453749Z"
    }
   },
   "outputs": [
    {
     "name": "stdout",
     "output_type": "stream",
     "text": [
      "Кількість неперервних розподілів: 107\n",
      "Кількість дискретних розподілів:   19\n"
     ]
    }
   ],
   "source": [
    "dist_continu = [d for d in dir(st) if\n",
    "                isinstance(getattr(st, d), st.rv_continuous)]\n",
    "dist_discrete = [d for d in dir(st) if\n",
    "                 isinstance(getattr(st, d), st.rv_discrete)]\n",
    "print('Кількість неперервних розподілів: %d' % len(dist_continu))\n",
    "print('Кількість дискретних розподілів:   %d' % len(dist_discrete))"
   ]
  },
  {
   "cell_type": "code",
   "execution_count": 7,
   "id": "0e9fd340",
   "metadata": {
    "ExecuteTime": {
     "end_time": "2022-12-06T19:41:23.246050Z",
     "start_time": "2022-12-06T19:41:23.241036Z"
    }
   },
   "outputs": [
    {
     "data": {
      "text/plain": [
       "0.5"
      ]
     },
     "execution_count": 7,
     "metadata": {},
     "output_type": "execute_result"
    }
   ],
   "source": [
    "norm.cdf(0)"
   ]
  },
  {
   "cell_type": "markdown",
   "id": "91c256ca",
   "metadata": {},
   "source": [
    "Можемо вивести для декількох точок."
   ]
  },
  {
   "cell_type": "code",
   "execution_count": 8,
   "id": "f1d2b73e",
   "metadata": {
    "ExecuteTime": {
     "end_time": "2022-12-06T19:41:35.872883Z",
     "start_time": "2022-12-06T19:41:35.866935Z"
    }
   },
   "outputs": [
    {
     "data": {
      "text/plain": [
       "array([0.15865525, 0.5       , 0.84134475])"
      ]
     },
     "execution_count": 8,
     "metadata": {},
     "output_type": "execute_result"
    }
   ],
   "source": [
    "norm.cdf([-1., 0, 1])"
   ]
  },
  {
   "cell_type": "code",
   "execution_count": 9,
   "id": "9387eddd",
   "metadata": {
    "ExecuteTime": {
     "end_time": "2022-12-06T19:43:42.835906Z",
     "start_time": "2022-12-06T19:43:42.828661Z"
    }
   },
   "outputs": [
    {
     "data": {
      "text/plain": [
       "0.9772498680518208"
      ]
     },
     "execution_count": 9,
     "metadata": {},
     "output_type": "execute_result"
    }
   ],
   "source": [
    "norm.cdf(2, 0, 1)"
   ]
  },
  {
   "cell_type": "markdown",
   "id": "7c2bda65",
   "metadata": {},
   "source": [
    "Якщо хочемо отримати CDF і PDF певного розподілу:"
   ]
  },
  {
   "cell_type": "code",
   "execution_count": 10,
   "id": "c28e6e8d",
   "metadata": {
    "ExecuteTime": {
     "end_time": "2022-12-06T19:42:18.801858Z",
     "start_time": "2022-12-06T19:42:18.575403Z"
    }
   },
   "outputs": [
    {
     "data": {
      "image/png": "[encoded data removed]",
      "text/plain": [
       "<Figure size 640x480 with 1 Axes>"
      ]
     },
     "metadata": {},
     "output_type": "display_data"
    }
   ],
   "source": [
    "x = np.linspace(-5, 5, 5000)\n",
    "mu = 0\n",
    "sigma = 1\n",
    "\n",
    "y_pdf = norm.pdf(x, mu, sigma)  # pdf нормального розподілу\n",
    "y_cdf = norm.cdf(x, mu, sigma)  # cdf нормального розподілу\n",
    "\n",
    "plt.plot(x, y_pdf, label='pdf')\n",
    "plt.plot(x, y_cdf, label='cdf')\n",
    "plt.legend();"
   ]
  },
  {
   "cell_type": "markdown",
   "id": "fb5442af",
   "metadata": {},
   "source": [
    "Можемо дослідити, як параметри розподілу впливають на його вигляд:"
   ]
  },
  {
   "cell_type": "code",
   "execution_count": 11,
   "id": "b69847c4",
   "metadata": {
    "ExecuteTime": {
     "end_time": "2022-12-06T19:44:33.486515Z",
     "start_time": "2022-12-06T19:44:33.483014Z"
    }
   },
   "outputs": [],
   "source": [
    "def plot_normal(x_range, mu=0, sigma=1, cdf=False, **kwargs):\n",
    "    x = x_range\n",
    "    if cdf:\n",
    "        y = norm.cdf(x, mu, sigma)\n",
    "    else:\n",
    "        y = norm.pdf(x, mu, sigma)\n",
    "    plt.plot(x, y, **kwargs)"
   ]
  },
  {
   "cell_type": "code",
   "execution_count": 12,
   "id": "dcf39fae",
   "metadata": {
    "ExecuteTime": {
     "end_time": "2022-12-06T19:44:44.065521Z",
     "start_time": "2022-12-06T19:44:43.894704Z"
    }
   },
   "outputs": [
    {
     "data": {
      "image/png": "[encoded data removed]",
      "text/plain": [
       "<Figure size 640x480 with 1 Axes>"
      ]
     },
     "metadata": {},
     "output_type": "display_data"
    }
   ],
   "source": [
    "plot_normal(x, -2, 1, color='red', lw=2, ls='-', alpha=0.5)\n",
    "plot_normal(x, 2, 1.2, color='blue', lw=2, ls='-', alpha=0.5)\n",
    "plot_normal(x, 0, 0.8, color='green', lw=2, ls='-', alpha=0.5);"
   ]
  },
  {
   "cell_type": "markdown",
   "id": "c4ebd0cf",
   "metadata": {},
   "source": [
    "Створимо та проведемо дослідження вибірки із заданого розподілу:"
   ]
  },
  {
   "cell_type": "code",
   "execution_count": 13,
   "id": "9dd0b238",
   "metadata": {
    "ExecuteTime": {
     "end_time": "2022-12-06T19:54:23.872780Z",
     "start_time": "2022-12-06T19:54:23.865928Z"
    }
   },
   "outputs": [],
   "source": [
    "from scipy.stats import beta\n",
    "\n",
    "# для відтворюваності\n",
    "np.random.seed(seed=233423)\n",
    "\n",
    "a, b = 2, 6\n",
    "\n",
    "x = beta.rvs(a, b, size=1000)"
   ]
  },
  {
   "cell_type": "code",
   "execution_count": 14,
   "id": "ac3999bb",
   "metadata": {
    "ExecuteTime": {
     "end_time": "2022-12-06T19:55:29.226764Z",
     "start_time": "2022-12-06T19:55:29.222133Z"
    }
   },
   "outputs": [
    {
     "data": {
      "text/plain": [
       "0.24882674925049725"
      ]
     },
     "execution_count": 14,
     "metadata": {},
     "output_type": "execute_result"
    }
   ],
   "source": [
    "x.mean()"
   ]
  },
  {
   "cell_type": "code",
   "execution_count": null,
   "id": "1b592a19",
   "metadata": {
    "ExecuteTime": {
     "end_time": "2022-12-06T19:55:32.965714Z",
     "start_time": "2022-12-06T19:55:32.807545Z"
    }
   },
   "outputs": [],
   "source": [
    "fig, ax = plt.subplots(1, 1)\n",
    "ax.hist(x, density=True, alpha=0.2)\n",
    "plt.show()"
   ]
  },
  {
   "cell_type": "markdown",
   "id": "14668d17",
   "metadata": {},
   "source": [
    "Виведемо описові статистики розподілу:"
   ]
  },
  {
   "cell_type": "code",
   "execution_count": 15,
   "id": "68c6830a",
   "metadata": {
    "ExecuteTime": {
     "end_time": "2022-12-06T19:56:50.438427Z",
     "start_time": "2022-12-06T19:56:50.430033Z"
    }
   },
   "outputs": [
    {
     "name": "stdout",
     "output_type": "stream",
     "text": [
      "mean : 0.250\n",
      "var : 0.021\n",
      "shape a : 0.000\n",
      "shape b : 1.000\n",
      "median : 0.228\n"
     ]
    }
   ],
   "source": [
    "m = beta.mean(a,b)\n",
    "v = beta.var(a,b)\n",
    "shp_a = beta.a\n",
    "shp_b = beta.b\n",
    "median = beta.median(a,b)\n",
    "\n",
    "rv_stats = {\"mean\": m, \"var\": v, \"shape a\": shp_a, \"shape b\": shp_b, \"median\": median}\n",
    "_ = [print(k,\":\",f'{v:.3f}') for k,v in rv_stats.items()]"
   ]
  },
  {
   "cell_type": "markdown",
   "id": "1738ebdb",
   "metadata": {},
   "source": [
    "Перші 4 моменти (про [моменти](https://www.analyticsvidhya.com/blog/2022/01/moments-a-must-known-statistical-concept-for-data-science/#:~:text=%E2%80%93%20Standardized%20Moments-,What%20is%20the%20Moment%20in%20Statistics%3F,as%20the%20X's%20expected%20values.)) :"
   ]
  },
  {
   "cell_type": "code",
   "execution_count": 16,
   "id": "8378f01b",
   "metadata": {
    "ExecuteTime": {
     "end_time": "2022-12-06T19:57:46.296486Z",
     "start_time": "2022-12-06T19:57:46.290427Z"
    }
   },
   "outputs": [
    {
     "name": "stdout",
     "output_type": "stream",
     "text": [
      "mean : 0.250\n",
      "var : 0.021\n",
      "skew : 0.693\n",
      "kurt : 0.109\n"
     ]
    }
   ],
   "source": [
    "moments_values = beta.stats(a,b, moments=\"mvsk\")\n",
    "\n",
    "moments_names = [\"mean\", \"var\", \"skew\", \"kurt\"]\n",
    "moments = dict(zip(moments_names, moments_values))\n",
    "_ = [print(k,\":\",f'{v:.3f}') for k,v in moments.items()]"
   ]
  },
  {
   "cell_type": "markdown",
   "id": "3ca4b806",
   "metadata": {},
   "source": [
    "# Узгодження розподілу з даними"
   ]
  },
  {
   "cell_type": "markdown",
   "id": "5c0bd067",
   "metadata": {},
   "source": [
    "Припустимо, ми хочемо зʼясувати, за яким законом розподілу розподілені наші дані. Для цього можемо спробувати зафітити кілька різних розподілів і подивитися, який найкраще описує наші дані."
   ]
  },
  {
   "cell_type": "code",
   "execution_count": 17,
   "id": "553b35cc",
   "metadata": {
    "ExecuteTime": {
     "end_time": "2022-12-06T20:51:26.011255Z",
     "start_time": "2022-12-06T20:51:25.989044Z"
    }
   },
   "outputs": [],
   "source": [
    "def doane_formula(data):\n",
    "    \"\"\"\n",
    "    Формула для пошуку оптимальної кількості бінів для візуалізації та аналізу даних:\n",
    "    https://en.wikipedia.org/wiki/Histogram#Doane's_formula\n",
    "    \"\"\"\n",
    "    N = len(data)\n",
    "    skewness = st.skew(data)\n",
    "    sigma_g1 = math.sqrt((6*(N-2))/((N+1)*(N+3)))\n",
    "    num_bins = 1 + math.log(N,2) + math.log(1+abs(skewness)/sigma_g1,2)\n",
    "    num_bins = round(num_bins)\n",
    "    return num_bins\n",
    "\n",
    "def plot_histogram(data, results, n):\n",
    "    # N перших розподілів у ранжуванні\n",
    "    N_DISTRIBUTIONS = {k: results[k] for k in list(results)[:n]}\n",
    "\n",
    "    # Гістограма даних\n",
    "    plt.figure(figsize=(10, 5))\n",
    "    plt.hist(data, density=True, ec='white', color=(63/235, 149/235, 170/235))\n",
    "    plt.title('HISTOGRAM')\n",
    "    plt.xlabel('Values')\n",
    "    plt.ylabel('Frequencies')\n",
    "    \n",
    "    # Розподіл\n",
    "    for distribution, result in N_DISTRIBUTIONS.items():\n",
    "        sse = result[0]\n",
    "        arg = result[1]\n",
    "        loc = result[2]\n",
    "        scale = result[3]\n",
    "        x_plot = np.linspace(min(data), max(data), 1000)\n",
    "        y_plot = distribution.pdf(x_plot, loc=loc, scale=scale, *arg)\n",
    "        dist_name = re.search(r'_continuous_distns\\.(.*?) object', str(distribution)).group(1)\n",
    "        plt.plot(x_plot, y_plot, label=dist_name + \": \" + str(sse)[0:6], color=(random.uniform(0, 1), random.uniform(0, 1), random.uniform(0, 1)))\n",
    "    \n",
    "    plt.legend(title='DISTRIBUTIONS', bbox_to_anchor=(1.05, 1), loc='upper left')\n",
    "    plt.show()\n",
    "\n",
    "def fit_data(data):\n",
    "    ALL_DISTRIBUTIONS = [d for d in dir(st) if\n",
    "                isinstance(getattr(st, d), st.rv_continuous)]\n",
    "    \n",
    "    MY_DISTRIBUTIONS = [st.beta, st.expon, st.norm, \n",
    "                        st.uniform, st.johnsonsb, st.gennorm,\n",
    "                        st.gausshyper]\n",
    "\n",
    "    # Шукаємо оптимальну кількість бінів у гістограмі за формулою Доані\n",
    "    num_bins = doane_formula(data)\n",
    "    frequencies, bin_edges = np.histogram(data, num_bins, density=True)\n",
    "    central_values = [(bin_edges[i] + bin_edges[i+1])/2 for i in range(len(bin_edges)-1)]\n",
    "\n",
    "    results = {}\n",
    "    for distribution in MY_DISTRIBUTIONS:\n",
    "        # Отримуємо параметри розподілу\n",
    "        params = distribution.fit(data)\n",
    "        \n",
    "        # Виділяємо потрібні нам частини параметрів\n",
    "        arg = params[:-2]\n",
    "        loc = params[-2]\n",
    "        scale = params[-1]\n",
    "    \n",
    "        # Розраховуємо підігнаний PDF і похибку підгонки розподілу\n",
    "        pdf_values = [distribution.pdf(c, loc=loc, scale=scale, *arg) for c in central_values]\n",
    "        \n",
    "        # Рахуємо суму квадратів помилки\n",
    "        sse = np.sum(np.power(frequencies - pdf_values, 2.0))\n",
    "        \n",
    "        # Збираємо результати\n",
    "        results[distribution] = [sse, arg, loc, scale]\n",
    "        \n",
    "    results = {k: results[k] for k in sorted(results, key=results.get)}\n",
    "    return results"
   ]
  },
  {
   "cell_type": "markdown",
   "id": "e7e72d38",
   "metadata": {
    "ExecuteTime": {
     "end_time": "2021-11-18T15:16:57.368857Z",
     "start_time": "2021-11-18T15:16:57.365343Z"
    }
   },
   "source": [
    "Набір даних, який будемо досліджувати в цьому завданні, містить океанографічні та надземні метеорологічні дані, отримані з низки буїв, розташованих по всій екваторіальній частині Тихого океану:\n",
    "https://archive.ics.uci.edu/ml/datasets/El+Nino  \n",
    "\n",
    "Дані зібрано за кілька років, колонки - це місяці. Тому перед аналізом нам треба трансформувати набір даних."
   ]
  },
  {
   "cell_type": "code",
   "execution_count": 18,
   "id": "73d4103a",
   "metadata": {
    "ExecuteTime": {
     "end_time": "2022-12-06T20:49:58.095251Z",
     "start_time": "2022-12-06T20:49:58.033399Z"
    }
   },
   "outputs": [],
   "source": [
    "df = sm.datasets.elnino.load_pandas().data.set_index('YEAR')"
   ]
  },
  {
   "cell_type": "code",
   "execution_count": 19,
   "id": "457516a4",
   "metadata": {
    "ExecuteTime": {
     "end_time": "2022-12-06T18:35:27.391413Z",
     "start_time": "2022-12-06T18:35:27.351702Z"
    }
   },
   "outputs": [
    {
     "data": {
      "text/html": [
       "<div>\n",
       "<style scoped>\n",
       "    .dataframe tbody tr th:only-of-type {\n",
       "        vertical-align: middle;\n",
       "    }\n",
       "\n",
       "    .dataframe tbody tr th {\n",
       "        vertical-align: top;\n",
       "    }\n",
       "\n",
       "    .dataframe thead th {\n",
       "        text-align: right;\n",
       "    }\n",
       "</style>\n",
       "<table border=\"1\" class=\"dataframe\">\n",
       "  <thead>\n",
       "    <tr style=\"text-align: right;\">\n",
       "      <th></th>\n",
       "      <th>JAN</th>\n",
       "      <th>FEB</th>\n",
       "      <th>MAR</th>\n",
       "      <th>APR</th>\n",
       "      <th>MAY</th>\n",
       "      <th>JUN</th>\n",
       "      <th>JUL</th>\n",
       "      <th>AUG</th>\n",
       "      <th>SEP</th>\n",
       "      <th>OCT</th>\n",
       "      <th>NOV</th>\n",
       "      <th>DEC</th>\n",
       "    </tr>\n",
       "    <tr>\n",
       "      <th>YEAR</th>\n",
       "      <th></th>\n",
       "      <th></th>\n",
       "      <th></th>\n",
       "      <th></th>\n",
       "      <th></th>\n",
       "      <th></th>\n",
       "      <th></th>\n",
       "      <th></th>\n",
       "      <th></th>\n",
       "      <th></th>\n",
       "      <th></th>\n",
       "      <th></th>\n",
       "    </tr>\n",
       "  </thead>\n",
       "  <tbody>\n",
       "    <tr>\n",
       "      <th>1950.0</th>\n",
       "      <td>23.11</td>\n",
       "      <td>24.20</td>\n",
       "      <td>25.37</td>\n",
       "      <td>23.86</td>\n",
       "      <td>23.03</td>\n",
       "      <td>21.57</td>\n",
       "      <td>20.63</td>\n",
       "      <td>20.15</td>\n",
       "      <td>19.67</td>\n",
       "      <td>20.03</td>\n",
       "      <td>20.02</td>\n",
       "      <td>21.80</td>\n",
       "    </tr>\n",
       "    <tr>\n",
       "      <th>1951.0</th>\n",
       "      <td>24.19</td>\n",
       "      <td>25.28</td>\n",
       "      <td>25.60</td>\n",
       "      <td>25.37</td>\n",
       "      <td>24.79</td>\n",
       "      <td>24.69</td>\n",
       "      <td>23.86</td>\n",
       "      <td>22.32</td>\n",
       "      <td>21.44</td>\n",
       "      <td>21.77</td>\n",
       "      <td>22.33</td>\n",
       "      <td>22.89</td>\n",
       "    </tr>\n",
       "    <tr>\n",
       "      <th>1952.0</th>\n",
       "      <td>24.52</td>\n",
       "      <td>26.21</td>\n",
       "      <td>26.37</td>\n",
       "      <td>24.73</td>\n",
       "      <td>23.71</td>\n",
       "      <td>22.34</td>\n",
       "      <td>20.89</td>\n",
       "      <td>20.02</td>\n",
       "      <td>19.63</td>\n",
       "      <td>20.40</td>\n",
       "      <td>20.77</td>\n",
       "      <td>22.39</td>\n",
       "    </tr>\n",
       "    <tr>\n",
       "      <th>1953.0</th>\n",
       "      <td>24.15</td>\n",
       "      <td>26.34</td>\n",
       "      <td>27.36</td>\n",
       "      <td>27.03</td>\n",
       "      <td>25.47</td>\n",
       "      <td>23.49</td>\n",
       "      <td>22.20</td>\n",
       "      <td>21.45</td>\n",
       "      <td>21.25</td>\n",
       "      <td>20.95</td>\n",
       "      <td>21.60</td>\n",
       "      <td>22.44</td>\n",
       "    </tr>\n",
       "    <tr>\n",
       "      <th>1954.0</th>\n",
       "      <td>23.02</td>\n",
       "      <td>25.00</td>\n",
       "      <td>25.33</td>\n",
       "      <td>22.97</td>\n",
       "      <td>21.73</td>\n",
       "      <td>20.77</td>\n",
       "      <td>19.52</td>\n",
       "      <td>19.33</td>\n",
       "      <td>18.95</td>\n",
       "      <td>19.11</td>\n",
       "      <td>20.27</td>\n",
       "      <td>21.30</td>\n",
       "    </tr>\n",
       "    <tr>\n",
       "      <th>...</th>\n",
       "      <td>...</td>\n",
       "      <td>...</td>\n",
       "      <td>...</td>\n",
       "      <td>...</td>\n",
       "      <td>...</td>\n",
       "      <td>...</td>\n",
       "      <td>...</td>\n",
       "      <td>...</td>\n",
       "      <td>...</td>\n",
       "      <td>...</td>\n",
       "      <td>...</td>\n",
       "      <td>...</td>\n",
       "    </tr>\n",
       "    <tr>\n",
       "      <th>2006.0</th>\n",
       "      <td>24.76</td>\n",
       "      <td>26.52</td>\n",
       "      <td>26.22</td>\n",
       "      <td>24.29</td>\n",
       "      <td>23.84</td>\n",
       "      <td>22.82</td>\n",
       "      <td>22.20</td>\n",
       "      <td>21.89</td>\n",
       "      <td>21.93</td>\n",
       "      <td>22.46</td>\n",
       "      <td>22.61</td>\n",
       "      <td>24.15</td>\n",
       "    </tr>\n",
       "    <tr>\n",
       "      <th>2007.0</th>\n",
       "      <td>25.82</td>\n",
       "      <td>26.81</td>\n",
       "      <td>26.41</td>\n",
       "      <td>24.96</td>\n",
       "      <td>23.05</td>\n",
       "      <td>21.61</td>\n",
       "      <td>21.05</td>\n",
       "      <td>19.95</td>\n",
       "      <td>19.85</td>\n",
       "      <td>19.31</td>\n",
       "      <td>19.82</td>\n",
       "      <td>21.15</td>\n",
       "    </tr>\n",
       "    <tr>\n",
       "      <th>2008.0</th>\n",
       "      <td>24.24</td>\n",
       "      <td>26.39</td>\n",
       "      <td>26.91</td>\n",
       "      <td>25.68</td>\n",
       "      <td>24.43</td>\n",
       "      <td>23.19</td>\n",
       "      <td>23.02</td>\n",
       "      <td>22.14</td>\n",
       "      <td>21.60</td>\n",
       "      <td>21.39</td>\n",
       "      <td>21.54</td>\n",
       "      <td>22.73</td>\n",
       "    </tr>\n",
       "    <tr>\n",
       "      <th>2009.0</th>\n",
       "      <td>24.39</td>\n",
       "      <td>25.53</td>\n",
       "      <td>25.48</td>\n",
       "      <td>25.84</td>\n",
       "      <td>24.95</td>\n",
       "      <td>24.09</td>\n",
       "      <td>23.09</td>\n",
       "      <td>22.03</td>\n",
       "      <td>21.48</td>\n",
       "      <td>21.64</td>\n",
       "      <td>21.99</td>\n",
       "      <td>23.21</td>\n",
       "    </tr>\n",
       "    <tr>\n",
       "      <th>2010.0</th>\n",
       "      <td>24.70</td>\n",
       "      <td>26.16</td>\n",
       "      <td>26.54</td>\n",
       "      <td>26.04</td>\n",
       "      <td>24.75</td>\n",
       "      <td>23.26</td>\n",
       "      <td>21.11</td>\n",
       "      <td>19.49</td>\n",
       "      <td>19.28</td>\n",
       "      <td>19.73</td>\n",
       "      <td>20.44</td>\n",
       "      <td>22.07</td>\n",
       "    </tr>\n",
       "  </tbody>\n",
       "</table>\n",
       "<p>61 rows × 12 columns</p>\n",
       "</div>"
      ],
      "text/plain": [
       "          JAN    FEB    MAR    APR    MAY    JUN    JUL    AUG    SEP    OCT  \\\n",
       "YEAR                                                                           \n",
       "1950.0  23.11  24.20  25.37  23.86  23.03  21.57  20.63  20.15  19.67  20.03   \n",
       "1951.0  24.19  25.28  25.60  25.37  24.79  24.69  23.86  22.32  21.44  21.77   \n",
       "1952.0  24.52  26.21  26.37  24.73  23.71  22.34  20.89  20.02  19.63  20.40   \n",
       "1953.0  24.15  26.34  27.36  27.03  25.47  23.49  22.20  21.45  21.25  20.95   \n",
       "1954.0  23.02  25.00  25.33  22.97  21.73  20.77  19.52  19.33  18.95  19.11   \n",
       "...       ...    ...    ...    ...    ...    ...    ...    ...    ...    ...   \n",
       "2006.0  24.76  26.52  26.22  24.29  23.84  22.82  22.20  21.89  21.93  22.46   \n",
       "2007.0  25.82  26.81  26.41  24.96  23.05  21.61  21.05  19.95  19.85  19.31   \n",
       "2008.0  24.24  26.39  26.91  25.68  24.43  23.19  23.02  22.14  21.60  21.39   \n",
       "2009.0  24.39  25.53  25.48  25.84  24.95  24.09  23.09  22.03  21.48  21.64   \n",
       "2010.0  24.70  26.16  26.54  26.04  24.75  23.26  21.11  19.49  19.28  19.73   \n",
       "\n",
       "          NOV    DEC  \n",
       "YEAR                  \n",
       "1950.0  20.02  21.80  \n",
       "1951.0  22.33  22.89  \n",
       "1952.0  20.77  22.39  \n",
       "1953.0  21.60  22.44  \n",
       "1954.0  20.27  21.30  \n",
       "...       ...    ...  \n",
       "2006.0  22.61  24.15  \n",
       "2007.0  19.82  21.15  \n",
       "2008.0  21.54  22.73  \n",
       "2009.0  21.99  23.21  \n",
       "2010.0  20.44  22.07  \n",
       "\n",
       "[61 rows x 12 columns]"
      ]
     },
     "execution_count": 19,
     "metadata": {},
     "output_type": "execute_result"
    }
   ],
   "source": [
    "df"
   ]
  },
  {
   "cell_type": "code",
   "execution_count": 21,
   "id": "69847aea",
   "metadata": {
    "ExecuteTime": {
     "end_time": "2022-12-06T20:51:05.967530Z",
     "start_time": "2022-12-06T20:51:05.962092Z"
    }
   },
   "outputs": [],
   "source": [
    "data = pd.Series(df.values.ravel()) # df.ravel() - вертає плоский масив даних"
   ]
  },
  {
   "cell_type": "code",
   "execution_count": 22,
   "id": "e6a065e6",
   "metadata": {
    "ExecuteTime": {
     "end_time": "2022-12-06T20:51:28.837780Z",
     "start_time": "2022-12-06T20:51:28.252649Z"
    }
   },
   "outputs": [],
   "source": [
    "results = fit_data(data)"
   ]
  },
  {
   "cell_type": "code",
   "execution_count": 23,
   "id": "76af781f",
   "metadata": {
    "ExecuteTime": {
     "end_time": "2022-12-06T20:51:53.020717Z",
     "start_time": "2022-12-06T20:51:53.016805Z"
    }
   },
   "outputs": [
    {
     "data": {
      "text/plain": [
       "<scipy.stats._continuous_distns.beta_gen at 0x123399350>"
      ]
     },
     "execution_count": 23,
     "metadata": {},
     "output_type": "execute_result"
    }
   ],
   "source": [
    "st.beta"
   ]
  },
  {
   "cell_type": "code",
   "execution_count": 24,
   "id": "f51da67b",
   "metadata": {
    "ExecuteTime": {
     "end_time": "2022-12-06T20:54:45.724377Z",
     "start_time": "2022-12-06T20:54:45.370598Z"
    }
   },
   "outputs": [
    {
     "data": {
      "image/png": "[encoded data removed]",
      "text/plain": [
       "<Figure size 1000x500 with 1 Axes>"
      ]
     },
     "metadata": {},
     "output_type": "display_data"
    }
   ],
   "source": [
    "plot_histogram(data, results, 5)"
   ]
  },
  {
   "cell_type": "markdown",
   "id": "bb40a0b3",
   "metadata": {},
   "source": [
    "# Z-test"
   ]
  },
  {
   "cell_type": "code",
   "execution_count": 32,
   "id": "2b0f49d0",
   "metadata": {
    "ExecuteTime": {
     "end_time": "2022-12-07T21:47:37.012834Z",
     "start_time": "2022-12-07T21:47:36.949542Z"
    }
   },
   "outputs": [],
   "source": [
    "from statsmodels.stats.weightstats import ztest  "
   ]
  },
  {
   "cell_type": "markdown",
   "id": "9cdfbc15",
   "metadata": {},
   "source": [
    "## На одній вибірці"
   ]
  },
  {
   "cell_type": "markdown",
   "id": "425bb019",
   "metadata": {
    "ExecuteTime": {
     "end_time": "2021-11-18T22:11:26.527037Z",
     "start_time": "2021-11-18T22:11:26.434988Z"
    }
   },
   "source": [
    "Згенеруємо випадковий масив із 50 чисел, що мають середнє значення 110 і стандартне відхилення 15, аналогічно до даних IQ, які ми припускаємо в задачі."
   ]
  },
  {
   "cell_type": "code",
   "execution_count": 26,
   "id": "b17aef70",
   "metadata": {
    "ExecuteTime": {
     "end_time": "2022-12-07T21:48:38.866132Z",
     "start_time": "2022-12-07T21:48:38.808379Z"
    }
   },
   "outputs": [],
   "source": [
    "mean_iq = 110\n",
    "sd_iq = 15 / math.sqrt(50)\n",
    "alpha = 0.05\n",
    "null_mean = 100"
   ]
  },
  {
   "cell_type": "code",
   "execution_count": 27,
   "id": "c39b4a39",
   "metadata": {
    "ExecuteTime": {
     "end_time": "2022-12-07T21:50:56.658238Z",
     "start_time": "2022-12-07T21:50:56.654496Z"
    }
   },
   "outputs": [],
   "source": [
    "# генеруємо дані\n",
    "data = np.random.randn(50)*15 + mean_iq"
   ]
  },
  {
   "cell_type": "code",
   "execution_count": 28,
   "id": "f37f0fe5",
   "metadata": {
    "ExecuteTime": {
     "end_time": "2022-12-07T21:49:07.182469Z",
     "start_time": "2022-12-07T21:49:07.122486Z"
    }
   },
   "outputs": [
    {
     "data": {
      "text/plain": [
       "2.1213203435596424"
      ]
     },
     "execution_count": 28,
     "metadata": {},
     "output_type": "execute_result"
    }
   ],
   "source": [
    "sd_iq"
   ]
  },
  {
   "cell_type": "code",
   "execution_count": 29,
   "id": "6ea9b0fe",
   "metadata": {
    "ExecuteTime": {
     "end_time": "2022-12-07T21:50:58.340043Z",
     "start_time": "2022-12-07T21:50:58.333985Z"
    }
   },
   "outputs": [
    {
     "name": "stdout",
     "output_type": "stream",
     "text": [
      "mean=109.28 stdv=12.90\n"
     ]
    }
   ],
   "source": [
    "print('mean=%.2f stdv=%.2f' % (np.mean(data), np.std(data)))\n",
    "  "
   ]
  },
  {
   "cell_type": "code",
   "execution_count": 30,
   "id": "6278f27d",
   "metadata": {
    "ExecuteTime": {
     "end_time": "2022-12-07T21:51:00.080524Z",
     "start_time": "2022-12-07T21:51:00.073266Z"
    }
   },
   "outputs": [
    {
     "data": {
      "text/plain": [
       "array([101.98832215, 116.37222237, 115.39213549, 122.5666613 ,\n",
       "       104.16216359, 114.85230846, 107.64974823, 117.81983884,\n",
       "       105.85103011,  68.33873229,  96.95971846, 109.58129048,\n",
       "       112.42406452, 126.1525581 ,  93.89665105,  84.04256154,\n",
       "       106.49134085, 104.02658116, 139.5350113 , 129.06124673,\n",
       "        96.02310886,  84.04793057, 134.18102155, 111.93382851,\n",
       "       132.12305991,  99.26056604, 120.19944999,  98.99527591,\n",
       "       109.81909476, 108.666749  , 108.51571809, 108.65378687,\n",
       "        96.7035517 , 113.06508848, 120.99995771, 109.5229625 ,\n",
       "       122.10874311, 111.93250173,  95.88649668,  96.51400173,\n",
       "       112.57262376,  95.7557653 , 115.44710945, 108.60740075,\n",
       "       114.50725177, 119.4490866 , 109.23178724, 113.17487388,\n",
       "       105.58763939, 113.2295283 ])"
      ]
     },
     "execution_count": 30,
     "metadata": {},
     "output_type": "execute_result"
    }
   ],
   "source": [
    "data"
   ]
  },
  {
   "cell_type": "markdown",
   "id": "d7fcf34b",
   "metadata": {
    "ExecuteTime": {
     "end_time": "2021-11-18T22:13:57.648731Z",
     "start_time": "2021-11-18T22:13:57.643927Z"
    }
   },
   "source": [
    "Тепер проводимо тест. У цій функції ми передали дані, у параметрі значення ми передали середнє значення в нульовій гіпотезі, в альтернативній гіпотезі ми перевіряємо, чи більше середнє значення"
   ]
  },
  {
   "cell_type": "code",
   "execution_count": 33,
   "id": "c0040f5a",
   "metadata": {
    "ExecuteTime": {
     "end_time": "2022-12-07T21:51:03.904071Z",
     "start_time": "2022-12-07T21:51:03.896205Z"
    }
   },
   "outputs": [],
   "source": [
    "ztest_Score, p_value = ztest(data, value = null_mean, alternative='larger')"
   ]
  },
  {
   "cell_type": "code",
   "execution_count": 34,
   "id": "0b3b3c77",
   "metadata": {
    "ExecuteTime": {
     "end_time": "2022-12-07T21:51:04.219668Z",
     "start_time": "2022-12-07T21:51:04.211981Z"
    }
   },
   "outputs": [
    {
     "data": {
      "text/plain": [
       "(5.034569110259027, 2.394624371752102e-07)"
      ]
     },
     "execution_count": 34,
     "metadata": {},
     "output_type": "execute_result"
    }
   ],
   "source": [
    "ztest_Score, p_value"
   ]
  },
  {
   "cell_type": "markdown",
   "id": "bda82122",
   "metadata": {
    "ExecuteTime": {
     "end_time": "2021-11-18T22:14:40.100021Z",
     "start_time": "2021-11-18T22:14:40.094813Z"
    }
   },
   "source": [
    "Функція виводить p_value і z-score, що відповідають цьому значенню, ми порівнюємо p-значення з альфа, якщо воно більше альфа, то ми не приймаємо нульову гіпотезу, інакше ми її відхиляємо."
   ]
  },
  {
   "cell_type": "code",
   "execution_count": null,
   "id": "c662cf02",
   "metadata": {
    "ExecuteTime": {
     "end_time": "2022-12-07T21:52:15.979476Z",
     "start_time": "2022-12-07T21:52:15.965667Z"
    }
   },
   "outputs": [],
   "source": [
    "if(p_value <  alpha):\n",
    "    print(\"Відхилити Н0.\")\n",
    "else:\n",
    "    print(\"Н0 не може бути відхилена.\")"
   ]
  },
  {
   "cell_type": "markdown",
   "id": "e76e73e1",
   "metadata": {},
   "source": [
    "## На двох вибірках"
   ]
  },
  {
   "cell_type": "markdown",
   "id": "2451ba9b",
   "metadata": {},
   "source": [
    "Порівняємо рівні IQ у двох різних містах."
   ]
  },
  {
   "cell_type": "code",
   "execution_count": null,
   "id": "5220d17e",
   "metadata": {
    "ExecuteTime": {
     "end_time": "2022-12-07T21:57:11.987942Z",
     "start_time": "2022-12-07T21:57:11.970770Z"
    }
   },
   "outputs": [],
   "source": [
    "cityA = [82, 84, 85, 89, 91, 91, 92, 94, 99, 99,\n",
    "         105, 109, 109, 109, 110, 112, 112, 113, 114, 114]\n",
    "\n",
    "cityB = [90, 91, 91, 91, 95, 95, 99, 99, 108, 109,\n",
    "         109, 114, 115, 116, 117, 117, 128, 129, 130, 133]"
   ]
  },
  {
   "cell_type": "code",
   "execution_count": null,
   "id": "037eda6a",
   "metadata": {
    "ExecuteTime": {
     "end_time": "2022-12-07T21:57:42.355858Z",
     "start_time": "2022-12-07T21:57:42.349712Z"
    }
   },
   "outputs": [],
   "source": [
    "np.mean(cityA), np.mean(cityB)"
   ]
  },
  {
   "cell_type": "markdown",
   "id": "29f9d1ba",
   "metadata": {
    "ExecuteTime": {
     "end_time": "2021-11-18T22:29:17.895822Z",
     "start_time": "2021-11-18T22:29:17.861475Z"
    }
   },
   "source": [
    "Виконуємо тест."
   ]
  },
  {
   "cell_type": "markdown",
   "id": "09a3e103",
   "metadata": {},
   "source": [
    "Важливий параметр методу ztest:\n",
    "- value : float  \n",
    "    In the one sample case, value is the mean of x1 under the Null\n",
    "    hypothesis.\n",
    "    In the two sample case, value is the difference between mean of x1 and\n",
    "    mean of x2 under the Null hypothesis. The test statistic is\n",
    "    `x1_mean - x2_mean - value`.\n",
    "    \n",
    "Метод z-test вертає\n",
    "\n",
    "- tstat : float,\n",
    "    test statistic\n",
    "- pvalue : float,\n",
    "    pvalue of the t-test"
   ]
  },
  {
   "cell_type": "code",
   "execution_count": null,
   "id": "1072f324",
   "metadata": {
    "ExecuteTime": {
     "end_time": "2022-12-07T21:59:24.319268Z",
     "start_time": "2022-12-07T21:59:24.313768Z"
    }
   },
   "outputs": [],
   "source": [
    "ztest(cityA, cityB, value=0)"
   ]
  },
  {
   "cell_type": "markdown",
   "id": "c8dd37db",
   "metadata": {
    "ExecuteTime": {
     "end_time": "2021-11-18T22:36:43.559957Z",
     "start_time": "2021-11-18T22:36:43.506713Z"
    }
   },
   "source": [
    "Статистика для двох вибірок z-критерію становить -1.9953, а відповідне p-value дорівнює 0.0460.\n",
    "\n",
    "Оскільки p-value < 0.05, у нас є достатньо доказів, щоб відкинути нульову гіпотезу. Іншими словами, середній рівень IQ значно різниться між двома містами."
   ]
  }
 ],
 "metadata": {
  "kernelspec": {
   "display_name": "Python 3 (ipykernel)",
   "language": "python",
   "name": "python3"
  },
  "language_info": {
   "codemirror_mode": {
    "name": "ipython",
    "version": 3
   },
   "file_extension": ".py",
   "mimetype": "text/x-python",
   "name": "python",
   "nbconvert_exporter": "python",
   "pygments_lexer": "ipython3",
   "version": "3.11.5"
  },
  "toc": {
   "base_numbering": 1,
   "nav_menu": {},
   "number_sections": true,
   "sideBar": true,
   "skip_h1_title": false,
   "title_cell": "Table of Contents",
   "title_sidebar": "Contents",
   "toc_cell": false,
   "toc_position": {},
   "toc_section_display": true,
   "toc_window_display": true
  },
  "vscode": {
   "interpreter": {
    "hash": "a6511e6b41b26ba86cca7483749cf4dd15bf137a2672e550741a656e19bba82e"
   }
  }
 },
 "nbformat": 4,
 "nbformat_minor": 5
}
